{
 "cells": [
  {
   "cell_type": "markdown",
   "id": "471ce3d2-e357-49c4-9c6b-4bc12a5ec607",
   "metadata": {},
   "source": [
    "# Apollo"
   ]
  },
  {
   "cell_type": "code",
   "execution_count": null,
   "id": "12be4d1d-d707-4dbf-bfbc-b580044ab6e8",
   "metadata": {},
   "outputs": [],
   "source": []
  },
  {
   "cell_type": "markdown",
   "id": "2b3e4916-737d-4e34-a2a2-f819a97b2386",
   "metadata": {},
   "source": []
  },
  {
   "cell_type": "code",
   "execution_count": null,
   "id": "1ff3db21-33e9-4f46-ba25-f83097b4ea98",
   "metadata": {},
   "outputs": [],
   "source": []
  }
 ],
 "metadata": {
  "kernelspec": {
   "display_name": "Python 3 (ipykernel)",
   "language": "python",
   "name": "python3"
  },
  "language_info": {
   "codemirror_mode": {
    "name": "ipython",
    "version": 3
   },
   "file_extension": ".py",
   "mimetype": "text/x-python",
   "name": "python",
   "nbconvert_exporter": "python",
   "pygments_lexer": "ipython3",
   "version": "3.11.0"
  }
 },
 "nbformat": 4,
 "nbformat_minor": 5
}
