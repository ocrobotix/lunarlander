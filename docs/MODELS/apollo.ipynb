{
 "cells": [
  {
   "cell_type": "markdown",
   "id": "954948f9-441d-4ca4-9294-ba9144391003",
   "metadata": {},
   "source": [
    "# Apollo"
   ]
  },
  {
   "cell_type": "markdown",
   "id": "23d4d275-e696-4c78-82e1-81393e07aa91",
   "metadata": {},
   "source": [
    "### 1. Methodology"
   ]
  },
  {
   "cell_type": "markdown",
   "id": "1c63c74c-50a4-469c-aa1b-bbc5fed70da1",
   "metadata": {},
   "source": [
    "### 2. Data Used"
   ]
  },
  {
   "cell_type": "markdown",
   "id": "68e28cde-185d-412d-ba5a-739665abc1e1",
   "metadata": {},
   "source": [
    "### 3. Predictions"
   ]
  }
 ],
 "metadata": {
  "kernelspec": {
   "display_name": "Python 3 (ipykernel)",
   "language": "python",
   "name": "python3"
  },
  "language_info": {
   "codemirror_mode": {
    "name": "ipython",
    "version": 3
   },
   "file_extension": ".py",
   "mimetype": "text/x-python",
   "name": "python",
   "nbconvert_exporter": "python",
   "pygments_lexer": "ipython3",
   "version": "3.11.0"
  }
 },
 "nbformat": 4,
 "nbformat_minor": 5
}
