{
 "cells": [
  {
   "cell_type": "markdown",
   "id": "1ef5435e",
   "metadata": {},
   "source": [
    "# Posts\n",
    "\n",
    "<!-- begin wwww.htmlcommentbox.com -->\n",
    " <div id=\"HCB_comment_box\"><a href=\"http://www.htmlcommentbox.com\">HTML </a> is loading comments...</div>\n",
    " <link rel=\"stylesheet\" type=\"text/css\" href=\"https://www.htmlcommentbox.com/static/skins/bootstrap/twitter-bootstrap.css?v=0\" />\n",
    " <script type=\"text/javascript\" id=\"hcb\"> /*<!--*/ if(!window.hcb_user){hcb_user={};} (function(){var s=document.createElement(\"script\"), l=hcb_user.PAGE || (\"\"+window.location).replace(/'/g,\"%27\"), h=\"https://www.htmlcommentbox.com\";s.setAttribute(\"type\",\"text/javascript\");s.setAttribute(\"src\", h+\"/jread?page=\"+encodeURIComponent(l).replace(\"+\",\"%2B\")+\"&opts=16798&num=10&ts=1731652241287\");if (typeof s!=\"undefined\") document.getElementsByTagName(\"head\")[0].appendChild(s);})(); /*-->*/ </script>\n",
    "<!-- end www.htmlcommentbox.com -->"
   ]
  },
  {
   "cell_type": "markdown",
   "id": "9a3ecca0-06da-432f-85ca-9980916d8fa2",
   "metadata": {},
   "source": [
    "# Uploads"
   ]
  },
  {
   "cell_type": "raw",
   "id": "19d9ce23-1249-4d25-8486-5938a56189c0",
   "metadata": {},
   "source": [
    "<!DOCTYPE html>\n",
    "<html lang=\"en\">\n",
    "<head>\n",
    "  <meta charset=\"UTF-8\">\n",
    "  <meta name=\"viewport\" content=\"width=device-width, initial-scale=1.0\">\n",
    "  <title>File Upload</title>\n",
    "  <style>\n",
    "    body {\n",
    "      font-family: Arial, sans-serif;\n",
    "      margin: 20px;\n",
    "      text-align: center;\n",
    "    }\n",
    "    .file-upload {\n",
    "      margin: 20px 0;\n",
    "    }\n",
    "    .preview {\n",
    "      margin-top: 20px;\n",
    "      padding: 10px;\n",
    "      border: 1px solid #ddd;\n",
    "      border-radius: 5px;\n",
    "    }\n",
    "  </style>\n",
    "</head>\n",
    "<body>\n",
    "  <h1>File Upload Example</h1>\n",
    "  <p>Select a file to upload and preview its name below:</p>\n",
    "\n",
    "  <div class=\"file-upload\">\n",
    "    <input type=\"file\" id=\"fileInput\">\n",
    "    <p id=\"fileName\">No file selected</p>\n",
    "  </div>\n",
    "\n",
    "  <div class=\"preview\" id=\"filePreview\">\n",
    "    <p>No file uploaded yet.</p>\n",
    "  </div>\n",
    "\n",
    "  <script>\n",
    "    const fileInput = document.getElementById('fileInput');\n",
    "    const fileName = document.getElementById('fileName');\n",
    "    const filePreview = document.getElementById('filePreview');\n",
    "\n",
    "    fileInput.addEventListener('change', () => {\n",
    "      const file = fileInput.files[0];\n",
    "\n",
    "      if (file) {\n",
    "        fileName.textContent = `Selected file: ${file.name}`;\n",
    "\n",
    "        // Optional: If the file is an image, preview it\n",
    "        if (file.type.startsWith('image/')) {\n",
    "          const reader = new FileReader();\n",
    "          reader.onload = function (e) {\n",
    "            filePreview.innerHTML = `<img src=\"${e.target.result}\" alt=\"Preview\" style=\"max-width: 100%; height: auto;\">`;\n",
    "          };\n",
    "          reader.readAsDataURL(file);\n",
    "        } else {\n",
    "          filePreview.innerHTML = `<p>Preview is not available for this file type.</p>`;\n",
    "        }\n",
    "      } else {\n",
    "        fileName.textContent = 'No file selected';\n",
    "        filePreview.innerHTML = '<p>No file uploaded yet.</p>';\n",
    "      }\n",
    "    });\n",
    "  </script>\n",
    "</body>\n",
    "</html>\n"
   ]
  },
  {
   "cell_type": "markdown",
   "id": "f4bb5830-a1bb-4cb9-a85c-9e99837b9c6a",
   "metadata": {},
   "source": []
  },
  {
   "cell_type": "raw",
   "id": "9cd34478-d883-4e55-ae64-33d6a6111d15",
   "metadata": {},
   "source": []
  }
 ],
 "metadata": {
  "jupytext": {
   "cell_metadata_filter": "-all",
   "main_language": "python",
   "notebook_metadata_filter": "-all"
  },
  "kernelspec": {
   "display_name": "Python 3 (ipykernel)",
   "language": "python",
   "name": "python3"
  },
  "language_info": {
   "codemirror_mode": {
    "name": "ipython",
    "version": 3
   },
   "file_extension": ".py",
   "mimetype": "text/x-python",
   "name": "python",
   "nbconvert_exporter": "python",
   "pygments_lexer": "ipython3",
   "version": "3.11.0"
  }
 },
 "nbformat": 4,
 "nbformat_minor": 5
}
