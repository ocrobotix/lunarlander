{
 "cells": [
  {
   "cell_type": "code",
   "execution_count": null,
   "id": "3b41631e-c73b-486c-82bd-9b5b0e1309fd",
   "metadata": {},
   "outputs": [],
   "source": []
  },
  {
   "cell_type": "markdown",
   "id": "cd6d6762-10ca-4cf3-8886-b869a88c9fb9",
   "metadata": {},
   "source": [
    "# About this Site\n",
    "\n",
    "This is a temporary \"open-innovation\" site to gather feedback on modeling the Apollo and Artemis Moon landings. Documentation is selective and by exception. All content on this site has been pulled / derived from the public domain. The site will be open for private comments until end of 2024.\n",
    "\n",
    "<h2 id=\"captains-log\">Captain's Log</h2>\n",
    "\n",
    "---\n",
    "\n",
    "<details>\n",
    "  <summary>16 November 2024</summary>\n",
    "  <br>\n",
    "  <p>\n",
    "  Reviewed Mathwork's <a href=\"https://www.mathworks.com/help/simulink/slref/developing-the-apollo-lunar-module-digital-autopilot.html\">Lunar Module model</a>  developed for Apollo's 50th anniversary celebration. Model can only orbit the Moon but not land.\n",
    "   </p>\n",
    "</details>\n",
    "\n",
    "<br>\n",
    "Apollo Lunar Module descent simulation C/O Mathworks\n",
    "\n",
    "<video \n",
    "    width=\"640\" \n",
    "    height=\"360\" \n",
    "    controls \n",
    "    preload=\"none\" \n",
    "    poster=\"./video/lunar2.png\" \n",
    "    class=\"video-container\">\n",
    "    <source src=\"../video/lunar.mp4\" type=\"video/mp4\">\n",
    "    <source src=\"../video/lunarorbit.mkv\" type=\"video/webm\">\n",
    "    <p>Your browser does not support HTML5 video. Please use a modern browser.</p>\n",
    "</video>\n",
    "<br>\n",
    "\n",
    "<br>\n",
    "---\n",
    "\n",
    "<details>\n",
    "  <summary>15 November 2024</summary>\n",
    "  <br>\n",
    "  <p> Click image below for article on updated (Oct 2024) landings sites for Artemis III\n",
    "\n",
    "  </p>\n",
    "  <br>\n",
    "\n",
    "</details>\n",
    "\n",
    "<figure>\n",
    "    <a href=\"https://www.nasa.gov/news-release/nasa-provides-update-on-artemis-iii-moon-landing-regions/\">\n",
    "        <img src=\"./img/artemis-iii-landing-region-candidates.webp\" width=\"500\"  alt=\"My image\">\n",
    "    </a>\n",
    "    <figcaption>Artemis III Landing Sites (UpdatedOctober 2024) </figcaption>\n",
    "</figure>\n",
    "\n",
    "---\n",
    "<br>\n",
    "\n",
    "<a href=\"#captains-log\">Back to Top</a>\n",
    "\n",
    "<br>\n"
   ]
  },
  {
   "cell_type": "markdown",
   "id": "02b4b6fc-8f3c-4386-bf1f-eda018f74497",
   "metadata": {},
   "source": []
  },
  {
   "cell_type": "code",
   "execution_count": null,
   "id": "06b397b7-d121-49d0-9ce3-48f4f3a223a9",
   "metadata": {},
   "outputs": [],
   "source": []
  }
 ],
 "metadata": {
  "kernelspec": {
   "display_name": "Python 3 (ipykernel)",
   "language": "python",
   "name": "python3"
  },
  "language_info": {
   "codemirror_mode": {
    "name": "ipython",
    "version": 3
   },
   "file_extension": ".py",
   "mimetype": "text/x-python",
   "name": "python",
   "nbconvert_exporter": "python",
   "pygments_lexer": "ipython3",
   "version": "3.11.0"
  }
 },
 "nbformat": 4,
 "nbformat_minor": 5
}
