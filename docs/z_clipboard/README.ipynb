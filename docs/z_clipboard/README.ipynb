{
 "cells": [
  {
   "cell_type": "markdown",
   "id": "7d7ca11f-2efe-4281-abca-a1032ecf1200",
   "metadata": {},
   "source": [
    "\n",
    "**Tips**  \n",
    "If issues with version control,  \n",
    "1. rm -rf site  \n",
    "\n",
    "If this doesn't work. . .   \n",
    "1. Delete the remote repository   \n",
    "2. ./create.sh  to create a repo fresh  \n",
    "3. ./update.sh  to update repo\n",
    "\n",
    "\n",
    "If this doesn't work. . .   \n",
    "1. create a new folder, rename, start over\n",
    "\n",
    "**Warning: When using Jupyter Notebooks**. . .      \n",
    "MkDocs with plugins like mkdocs-jupyter and themes such as ReadTheDocs often use *the first heading in the Jupyter Notebook (usually the content of the first Markdown cell with an H1 or H2 heading)* as the title displayed in the navigation menu.\n",
    "\n",
    "If a notebook has a heading, it takes precedence over the filename."
   ]
  },
  {
   "cell_type": "markdown",
   "id": "be99e91c-2dee-45cf-b73d-62e8821ca69b",
   "metadata": {},
   "source": [
    "\n",
    "**Include these in the requirements.txt file**  \n",
    "mkdocs  \n",
    "mkdocs-jupyter  \n",
    "mkdocs-mermaid2-plugin  \n",
    "pymdown-extensions  \n",
    "mkdocs-blogging-plugin  \n",
    "mkdocs-git-revision-date-plugin  \n",
    "pymdown-extensions\n",
    "\n"
   ]
  },
  {
   "cell_type": "markdown",
   "id": "079a0245-d650-4a0f-b53d-a0e3d99c1897",
   "metadata": {},
   "source": [
    "\n",
    "**Other pip install options**  \n",
    "mkdocs-blog-plugin  \n",
    "mknotebooks  # but don't use simultaneously with mkdocs-jupyter   \n",
    "nbconvert  # might be already satisfied\n"
   ]
  },
  {
   "cell_type": "markdown",
   "id": "f1d5b6b4-18c0-48cc-af3f-bb1f2be30ff8",
   "metadata": {},
   "source": [
    "**To convert .ipynb to other file formats**  \n",
    "\n",
    "jupyter nbconvert --to markdown my_notebook.ipynb\n",
    "jupyter nbconvert --to html my_notebook.ipynb\n",
    "jupyter nbconvert --to pdf my_notebook.ipynb\n"
   ]
  },
  {
   "cell_type": "markdown",
   "id": "72016dcd-f68c-4e2d-9d8a-8f6b42298f1a",
   "metadata": {},
   "source": [
    "**Standard Markdown doesn't underline text**    \n",
    "Do this instead:    \n",
    " \n",
    "<u>**This text is underlined**</u>  \n",
    "<u>*This text is underlined*</u>\n",
    "\n"
   ]
  },
  {
   "cell_type": "markdown",
   "id": "89f732d0-65e2-4643-b895-6f5b02f89a62",
   "metadata": {},
   "source": [
    "**Mix Markdown and HTML**   \n",
    "\n",
    "If you want to use HTML inline within a Markdown file (e.g., to embed custom components), \n",
    "you can mix Markdown and raw HTML. For example:\n",
    "\n",
    "# My Page\n",
    "\n",
    "<p style=\"color: red;\">This is a custom HTML section.</p>\n",
    "\n",
    "<!-- Add comment -->\n",
    "\n",
    "You can also put html files in docs folder, but it's served as is and not recommended as MkDocs doesn't do anything with it."
   ]
  },
  {
   "cell_type": "code",
   "execution_count": null,
   "id": "d4d7d25b-0f10-4194-b656-790f909016c1",
   "metadata": {},
   "outputs": [],
   "source": [
    "**Add blank spaces**  \n",
    "\n",
    "<div style=\"height: 100px;\"></div>\n",
    "\n",
    "or\n",
    "\n",
    "&nbsp;&nbsp;&nbsp;&nbsp;&nbsp;&nbsp;&nbsp;&nbsp;&nbsp;\n"
   ]
  },
  {
   "cell_type": "code",
   "execution_count": null,
   "id": "4592e731-2594-4006-8ed4-5e36e974fc2c",
   "metadata": {},
   "outputs": [],
   "source": []
  }
 ],
 "metadata": {
  "kernelspec": {
   "display_name": "Python 3 (ipykernel)",
   "language": "python",
   "name": "python3"
  },
  "language_info": {
   "codemirror_mode": {
    "name": "ipython",
    "version": 3
   },
   "file_extension": ".py",
   "mimetype": "text/x-python",
   "name": "python",
   "nbconvert_exporter": "python",
   "pygments_lexer": "ipython3",
   "version": "3.11.0"
  }
 },
 "nbformat": 4,
 "nbformat_minor": 5
}
